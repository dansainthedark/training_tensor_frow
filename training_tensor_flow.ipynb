{
  "nbformat": 4,
  "nbformat_minor": 0,
  "metadata": {
    "colab": {
      "name": "training_tensor_flow.ipynb",
      "provenance": []
    },
    "kernelspec": {
      "name": "python3",
      "display_name": "Python 3"
    },
    "language_info": {
      "name": "python"
    },
    "accelerator": "GPU"
  },
  "cells": [
    {
      "cell_type": "code",
      "execution_count": 1,
      "metadata": {
        "id": "vTvLT_pxViI3",
        "colab": {
          "base_uri": "https://localhost:8080/"
        },
        "outputId": "75e566a4-cae1-4990-a480-e3839c58fe03"
      },
      "outputs": [
        {
          "output_type": "stream",
          "name": "stdout",
          "text": [
            "Downloading data from https://storage.googleapis.com/tensorflow/tf-keras-datasets/mnist.npz\n",
            "11493376/11490434 [==============================] - 0s 0us/step\n",
            "11501568/11490434 [==============================] - 0s 0us/step\n"
          ]
        }
      ],
      "source": [
        "import tensorflow as tf\n",
        "\n",
        "mnist = tf.keras.datasets.mnist\n",
        "\n",
        "(x_train, y_train), (x_test, y_test) = mnist.load_data()\n",
        "x_train, x_test = x_train / 255.0, x_test / 255.0\n",
        "\n",
        "model = tf.keras.models.Sequential([\n",
        "  tf.keras.layers.Flatten(input_shape=(28, 28)),\n",
        "  tf.keras.layers.Dense(128, activation='relu'),\n",
        "  tf.keras.layers.Dropout(0.2),\n",
        "  tf.keras.layers.Dense(10)\n",
        "])"
      ]
    },
    {
      "cell_type": "code",
      "source": [
        "predictions = model(x_train[:1]).numpy()\n",
        "predictions"
      ],
      "metadata": {
        "colab": {
          "base_uri": "https://localhost:8080/"
        },
        "id": "4RStQRXEXpa9",
        "outputId": "84645f00-9be2-499b-fee2-1e885df36e6f"
      },
      "execution_count": 2,
      "outputs": [
        {
          "output_type": "execute_result",
          "data": {
            "text/plain": [
              "array([[-0.30474028, -0.33526403, -0.07552153, -0.28535366, -0.79481727,\n",
              "        -0.5111413 , -0.12335837,  0.20205286,  0.6245407 ,  0.15871125]],\n",
              "      dtype=float32)"
            ]
          },
          "metadata": {},
          "execution_count": 2
        }
      ]
    },
    {
      "cell_type": "code",
      "source": [
        "tf.nn.softmax(predictions).numpy()"
      ],
      "metadata": {
        "colab": {
          "base_uri": "https://localhost:8080/"
        },
        "id": "Q-AuFYUDXrqE",
        "outputId": "663c576e-7b15-4f5c-dac4-94a97a562124"
      },
      "execution_count": 3,
      "outputs": [
        {
          "output_type": "execute_result",
          "data": {
            "text/plain": [
              "array([[0.0790246 , 0.07664891, 0.09938269, 0.08057156, 0.04840882,\n",
              "        0.06428704, 0.09474046, 0.13117762, 0.2001446 , 0.12561361]],\n",
              "      dtype=float32)"
            ]
          },
          "metadata": {},
          "execution_count": 3
        }
      ]
    },
    {
      "cell_type": "markdown",
      "source": [
        "この損失は、クラスが正しい確率の対数をとって符号を反転させたものです。この値はモデルがこのクラスが正しいと確信しているときに 0 になります。\n",
        "\n",
        "この訓練されていないモデルはランダムに近い確率 (それぞれのクラスについて 1/10) を出力します、最初の損失は -tf.log(1/10) ~= 2.3 に近い値になるはずです。"
      ],
      "metadata": {
        "id": "0pvTSLgxYvK4"
      }
    },
    {
      "cell_type": "code",
      "source": [
        "loss_fn = tf.keras.losses.SparseCategoricalCrossentropy(from_logits=True)\n",
        "loss_fn(y_train[:1], predictions).numpy()"
      ],
      "metadata": {
        "colab": {
          "base_uri": "https://localhost:8080/"
        },
        "id": "82KzpC_tXu4L",
        "outputId": "81dfe3ae-1dd5-43c8-ed36-d9024d52705c"
      },
      "execution_count": 4,
      "outputs": [
        {
          "output_type": "execute_result",
          "data": {
            "text/plain": [
              "2.7443972"
            ]
          },
          "metadata": {},
          "execution_count": 4
        }
      ]
    },
    {
      "cell_type": "code",
      "source": [
        "model.compile(optimizer='adam',\n",
        "              loss=loss_fn,\n",
        "              metrics=['accuracy'])"
      ],
      "metadata": {
        "id": "_9U5PKzFX1BB"
      },
      "execution_count": 5,
      "outputs": []
    },
    {
      "cell_type": "code",
      "source": [
        "model.fit(x_train, y_train, epochs=5)"
      ],
      "metadata": {
        "colab": {
          "base_uri": "https://localhost:8080/"
        },
        "id": "KIejDy1fX4Mg",
        "outputId": "f41104d9-4045-49f4-cd09-d10c60b28958"
      },
      "execution_count": 6,
      "outputs": [
        {
          "output_type": "stream",
          "name": "stdout",
          "text": [
            "Epoch 1/5\n",
            "1875/1875 [==============================] - 6s 3ms/step - loss: 0.2987 - accuracy: 0.9133\n",
            "Epoch 2/5\n",
            "1875/1875 [==============================] - 5s 3ms/step - loss: 0.1424 - accuracy: 0.9574\n",
            "Epoch 3/5\n",
            "1875/1875 [==============================] - 5s 3ms/step - loss: 0.1077 - accuracy: 0.9667\n",
            "Epoch 4/5\n",
            "1875/1875 [==============================] - 5s 3ms/step - loss: 0.0863 - accuracy: 0.9736\n",
            "Epoch 5/5\n",
            "1875/1875 [==============================] - 5s 3ms/step - loss: 0.0739 - accuracy: 0.9761\n"
          ]
        },
        {
          "output_type": "execute_result",
          "data": {
            "text/plain": [
              "<keras.callbacks.History at 0x7efd0be55050>"
            ]
          },
          "metadata": {},
          "execution_count": 6
        }
      ]
    },
    {
      "cell_type": "code",
      "source": [
        "model.evaluate(x_test,  y_test, verbose=2)"
      ],
      "metadata": {
        "colab": {
          "base_uri": "https://localhost:8080/"
        },
        "id": "gPfSuH4nX6lI",
        "outputId": "70a09868-7ec3-4614-d22f-b43fc028d6a4"
      },
      "execution_count": 7,
      "outputs": [
        {
          "output_type": "stream",
          "name": "stdout",
          "text": [
            "313/313 - 1s - loss: 0.0751 - accuracy: 0.9770 - 822ms/epoch - 3ms/step\n"
          ]
        },
        {
          "output_type": "execute_result",
          "data": {
            "text/plain": [
              "[0.07507123053073883, 0.9769999980926514]"
            ]
          },
          "metadata": {},
          "execution_count": 7
        }
      ]
    },
    {
      "cell_type": "code",
      "source": [
        "probability_model = tf.keras.Sequential([\n",
        "  model,\n",
        "  tf.keras.layers.Softmax()\n",
        "])\n",
        "\n",
        "probability_model(x_test[:5])"
      ],
      "metadata": {
        "colab": {
          "base_uri": "https://localhost:8080/"
        },
        "id": "BY13g0ryX9GH",
        "outputId": "435997cf-ed18-4a68-d372-82a7aa5d5bf1"
      },
      "execution_count": 8,
      "outputs": [
        {
          "output_type": "execute_result",
          "data": {
            "text/plain": [
              "<tf.Tensor: shape=(5, 10), dtype=float32, numpy=\n",
              "array([[1.86656038e-07, 6.87014090e-09, 1.19874594e-05, 2.98295025e-04,\n",
              "        9.51166554e-13, 7.70561940e-07, 3.16877470e-12, 9.99672294e-01,\n",
              "        1.40722818e-07, 1.63789773e-05],\n",
              "       [5.39137872e-08, 2.61673034e-04, 9.99735177e-01, 2.72810144e-06,\n",
              "        2.57797364e-13, 1.51416994e-08, 1.00789173e-07, 1.90325208e-12,\n",
              "        2.70519251e-07, 4.11650342e-13],\n",
              "       [7.53684446e-07, 9.99536991e-01, 5.62434143e-05, 4.24991367e-06,\n",
              "        9.32002695e-06, 6.21848756e-07, 4.62474782e-06, 2.68783333e-04,\n",
              "        1.17929208e-04, 5.45374746e-07],\n",
              "       [9.99915481e-01, 7.56222285e-09, 2.69252196e-05, 1.75659716e-06,\n",
              "        5.07413347e-07, 3.64806306e-06, 3.31542324e-05, 1.01843425e-05,\n",
              "        2.62100883e-08, 8.30546742e-06],\n",
              "       [9.74946488e-07, 3.02113499e-08, 2.09354639e-05, 2.93184343e-07,\n",
              "        9.99450862e-01, 1.28746467e-06, 1.05559195e-06, 5.30922298e-05,\n",
              "        2.25972045e-07, 4.71185747e-04]], dtype=float32)>"
            ]
          },
          "metadata": {},
          "execution_count": 8
        }
      ]
    },
    {
      "cell_type": "code",
      "source": [
        "#どのくらいデータ量があるのか確認\n",
        "display(len(y_train))"
      ],
      "metadata": {
        "colab": {
          "base_uri": "https://localhost:8080/",
          "height": 34
        },
        "id": "z-1Qe01kZgnY",
        "outputId": "2761d6d6-cd0e-40ce-9c4e-9e6959d16a28"
      },
      "execution_count": 11,
      "outputs": [
        {
          "output_type": "display_data",
          "data": {
            "text/plain": [
              "60000"
            ]
          },
          "metadata": {}
        }
      ]
    }
  ]
}